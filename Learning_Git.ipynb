{
 "metadata": {
  "language_info": {
   "codemirror_mode": {
    "name": "ipython",
    "version": 3
   },
   "file_extension": ".py",
   "mimetype": "text/x-python",
   "name": "python",
   "nbconvert_exporter": "python",
   "pygments_lexer": "ipython3",
   "version": "3.7.1"
  },
  "orig_nbformat": 2,
  "kernelspec": {
   "name": "python3",
   "display_name": "Python 3.7.1 32-bit",
   "metadata": {
    "interpreter": {
     "hash": "4a0b95928b62ec4b15a8a280b5d06ccc5621d3b479183b0acc969b2a3d5197a1"
    }
   }
  }
 },
 "nbformat": 4,
 "nbformat_minor": 2,
 "cells": [
  {
   "cell_type": "code",
   "execution_count": null,
   "metadata": {},
   "outputs": [],
   "source": [
    "After installing Git and using git bash you computer slow solution:\n",
    "Run this three command on git bash--->\n",
    "git config --global core.preloadindex true\n",
    "git config --global core.fscache true\n",
    "git config --global gc.auto 256 "
   ]
  },
  {
   "source": [
    "# playlist 1"
   ],
   "cell_type": "markdown",
   "metadata": {}
  },
  {
   "source": [
    "# https://www.youtube.com/playlist?list=PLu0W_9lII9ahVQekD7ePHmnirTePXwIln\n",
    "# Here we used GEt Repo 1"
   ],
   "cell_type": "code",
   "metadata": {},
   "execution_count": null,
   "outputs": []
  },
  {
   "source": [
    "# 1 "
   ],
   "cell_type": "markdown",
   "metadata": {}
  },
  {
   "cell_type": "code",
   "execution_count": null,
   "metadata": {},
   "outputs": [],
   "source": [
    "Git is distributed version controling systen...it is a software\n",
    "Github is code hosting service where also used git version control \n",
    "\n",
    "Pull request means contribute your code which you wanna change\n",
    "\n",
    "Git createad by  Linus Torvalds"
   ]
  },
  {
   "source": [
    "# 2"
   ],
   "cell_type": "markdown",
   "metadata": {}
  },
  {
   "cell_type": "code",
   "execution_count": null,
   "metadata": {},
   "outputs": [],
   "source": [
    "In linux git come by default ..So you no need to install it on linux\n",
    "Right click> git bash here> \"git --version\" you will saw git version"
   ]
  },
  {
   "source": [
    "# 3"
   ],
   "cell_type": "markdown",
   "metadata": {}
  },
  {
   "cell_type": "code",
   "execution_count": null,
   "metadata": {},
   "outputs": [],
   "source": [
    "Create a folder \"Git Repo\" ..you can give any name\n",
    "\n",
    "Right click> git bash here> \"git status\"  Always it should be your first command.....Now you saw an \"ERROR\"\n",
    "\n",
    "\"git init\"          It creates a hidden file called \".git\"\n",
    "\n",
    "Remember git is like \"linux\" that means you can put all linux command here (Like cd,ls,pwd....)\n",
    "\n",
    "Now create \"index.txt\" and write \"This is version 1 of my software\"\n",
    "\n",
    "Also create \"utils.txt\" and write \"utility functions for version 1\"\n",
    "\n",
    "Now if you give \"git status\" it told you did not commit but you have 2 untracked file\n",
    "\n",
    "To commit or change first we need to stage then commit (Saw image 1,png)\n",
    "\n",
    "Future we will learn about why need stage before commit\n",
    "\n",
    "\"git add .\" Now all files comes to stage area  from working area\n",
    "\n",
    "Now \"git status\" did not tell it's untrakced file ....Now it tells \"to commit\"\n",
    "\n",
    "*************************OWN LEARNING****** First do that otherwise it gives problem \n",
    "\n",
    " ******Config Our Username and Email************\n",
    " git config --global user.email \"fazle@gmail.com\"\n",
    "\n",
    " git config --global user.name \"fazle rabbi\"        here global means for all the repository ....That means in the future if you make new  repository there also my name and email will be that(Learned for HARRY)...If you give with \"--global\" then it will be only for this repository\n",
    "\n",
    "\n",
    "\n",
    "git config --list\n",
    "\n",
    "clear       It will clear al the thing\n",
    "\n",
    " git config user.name   it will show only username \n",
    "\n",
    " git help       For help \n",
    "git help commit     It will show how to use commit in browser...You also can chose other to know\n",
    "\n",
    "****************End***********\n",
    "\n",
    "\n",
    "\n",
    "\"git commit -m \"version 1\" \"        Here version 1 is message ....You can give any message\n",
    "\n",
    "\"git log\"       To know how commited \n",
    "\n",
    "Now changing index.txt and utils.txt ...Change something on file\n",
    "\n",
    "Now \"git status\"\n",
    "\"git add .\"\n",
    "\"git commit -m \"Version 2\" \"\n",
    "\n",
    "\"git log\"  Now you will saw version 1 and  2 who chamged ..Every commit it creates a hash id ...I think you noticed\n",
    "\n",
    "If you use git then you will diffenitely can go to version 1 "
   ]
  },
  {
   "source": [
    "# 4"
   ],
   "cell_type": "markdown",
   "metadata": {}
  },
  {
   "cell_type": "code",
   "execution_count": null,
   "metadata": {},
   "outputs": [],
   "source": [
    "git config --global user.name       It wil show your global userName\n",
    "\n",
    "git config  user.name   It will show your current working username..Mind it\n",
    "\n",
    "Git log generates a \"sha\" which is 40 digit hexadecimal string which generate corresponding each commit and there you will saw how commit on which version and you can go back our old version\n",
    "\n",
    "When we commit we take a \"snapshot\" of thise code\n",
    "\n",
    "\n",
    "How to write commit message*******\n",
    "\n",
    "REmember commit message will read a human?So explain properly in core level What does this commit did\n",
    "\n",
    "Git Three layer architecture********working>>>staging>commit\n",
    "\n",
    "Why we can't direct commit or why we need staging?\n",
    "Because if we direct commit then we need to put al the commit file on working directory..But actually we don't put......Because of that we work some of the file whcih we don't want to commit right now that we put on working directory....We we wanna commit we just put then on staging"
   ]
  },
  {
   "source": [
    "# Playlist 2"
   ],
   "cell_type": "markdown",
   "metadata": {}
  },
  {
   "cell_type": "code",
   "execution_count": null,
   "metadata": {},
   "outputs": [],
   "source": [
    "# https://www.youtube.com/playlist?list=PLu0W_9lII9agwhy658ZPA0MTStKUJTWPi\n",
    "\n",
    "# Git Repo 2"
   ]
  },
  {
   "source": [
    "# 1"
   ],
   "cell_type": "markdown",
   "metadata": {}
  },
  {
   "cell_type": "code",
   "execution_count": null,
   "metadata": {},
   "outputs": [],
   "source": [
    "He use microsoft whiteboard to draw\n",
    "\n",
    "Git is version controling systen.The importance of version control system->\n",
    "\n",
    "->Easily file recovery\n",
    "->Who introduced an issue and when\n",
    "->Roll back to previously working state\n",
    "\n",
    "History or version controling systen(VCS)->>\n",
    "->LOCAL VCS.\n",
    "    pros->Cant track files and rollback\n",
    "    cons->If you lose ur harddisk ,everthing is lost\n",
    "->Centralyged VCS--->It means all the code on central server where all the programmer commit and all the programmer have copy of those files..But if your sever loss you can get data because it's also saved on your conputer but you can't back your older version\n",
    "->Distributed VCS--->It's like centralyged VCS..But difference is you pull or push you all get all the history...Like when you push and pull..That's why if server damaged you will also roll back your data..But you should make a smart system which save only where changed ..Not store many data ......iN Distributed VCS  all the user have complete back up\n",
    "\n",
    "\n",
    "How git was created?\n",
    "Linus trovalds      When making linux kernal(operating system) 1991-2002 then they exchange file from one to another\n",
    "2002 they think they need to use VCS .Then they use \"bitkeeper\"\n",
    "They used bitkeeper 2002-2005...But in 2005 bitkeeper charge for using it(Removed free of charges)....If you wanna use bitkeeper you need to pay\n",
    "\n",
    "2005 linux trovalds created git...He told human make bitkeeper we also can make our own VCS\n",
    "\n",
    "GITHUB IS hosting service\n",
    "\n",
    "Git features\n",
    "->Track snapshot . It did not capture diffeneces\n",
    "->When you create git repositry then First create \".git\" folder where saved your all project history\n",
    "->Almost every operation is local\n",
    "->Git has integrity..Remember git creates every changes sha-1 chekson...Checksum is a string like \"2b54ye5s...\"..Every file checksum is different..If we minor change on file our checksum will be change....If you download file from anyone you should saw checksum because between you and server there  hacker might be change the file...You  wil find tool which helps you to find checksum...That means if anyone change your file git will tell you using checksum\n",
    "\n",
    "->Git generally only adds data...Because if we delete or add something it actually did not happend or it also save it on \".git\" so that we can  roll back\n",
    "\n",
    "-->How many change on your repository your git data will be increase so much\n"
   ]
  },
  {
   "source": [
    "# 2"
   ],
   "cell_type": "markdown",
   "metadata": {}
  },
  {
   "cell_type": "code",
   "execution_count": null,
   "metadata": {},
   "outputs": [],
   "source": [
    "Git bash is actually terminal\n",
    "open git bash and type \"git\" then you will saw something shown\n",
    "\n",
    "if you type \"git\" also in cmd it will also work \n",
    "\n",
    "After installing git we get\n",
    "    ->Git command line tool\n",
    "    ->Git bash (Terminal programm)\n",
    "\n",
    "git config --global user.email \"fazle@gmail.com\"\n",
    "\n",
    "git config --global user.name \"fazle rabbi\" \n",
    "\n",
    "git config user.name\n",
    "git config user.email\n",
    "\n",
    "git config --list\n",
    "\n",
    "git config --global core.editor vim     You can set your code editor like this"
   ]
  },
  {
   "source": [
    "# 3"
   ],
   "cell_type": "markdown",
   "metadata": {}
  },
  {
   "cell_type": "code",
   "execution_count": null,
   "metadata": {},
   "outputs": [],
   "source": [
    "Git three stage architecture\n",
    "\n",
    "working directory--->Staging Area---> Git directory(repository)\n",
    "\n",
    "But we also can commit files directly without staging\n",
    "\n"
   ]
  },
  {
   "source": [
    "# 4"
   ],
   "cell_type": "markdown",
   "metadata": {}
  },
  {
   "cell_type": "code",
   "execution_count": null,
   "metadata": {},
   "outputs": [],
   "source": [
    "create first.txt(write:This is version 1),db.accdb,myexcel.xlsx\n",
    "\n",
    "Now open git repo2 on Git bash\n",
    "\n",
    "\"git status\"        Told this is not git repository    \n",
    "\n",
    "\"git init\"      Initillizing this folder as git repository......Now git will track this folder what we change ....It also creates  \".git\" hidden file  \n",
    "\n",
    "\"git status\"        It shows \"On branch master\" ..WE will know it later....But now just remember branch by default master..Master means main branch\n",
    "\n",
    "\"git add --a\"        Put all file in staging area....\"--a\" means all\n",
    "\n",
    "git commit -m \"Initial commit\"          Here -m means get this message \"initial commit\"....Snapshot taken\n",
    "\n",
    "\"git status\"        All the thing is fine what you staging al the thing is commit\n",
    "\n",
    "\"git log\"       You will saw all the commit who did and their messages...You might be saw a hash\n",
    "\n",
    "Now change something of first.txt and myexcel.xlsx and \"git status\" it will tell 2 files modified\n",
    "\n",
    "Just think first.txt we wanna commit , but myexcel.xlsx not now because some of this work is still here\n",
    "\n",
    "\"git add first.txt\"     sending first.txt to staging are\n",
    "\n",
    "git status              WE send first.txt to staging for commit but we did not staged 'myexcel.xlsx' through it is modified\n",
    "\n",
    "\"git commit -m \"Changed first.txt where added better design\"\"\n",
    "\n",
    "\"git status\"            It tells myexcel.xlsx is modified \n",
    "\n",
    "\"git add --a\"       Now putting myexcel.xlsx to staging area\n",
    "\"git commit -m \"myexcel.xlsx changed and because old version code is lagging\" \"\n",
    "\n"
   ]
  },
  {
   "source": [
    "# 5"
   ],
   "cell_type": "markdown",
   "metadata": {}
  },
  {
   "cell_type": "code",
   "execution_count": null,
   "metadata": {},
   "outputs": [],
   "source": [
    "if you wanna stop tracking any repository using git ...that means you wanna delete \".git\"....Then your folder no longer be a git repository then type\n",
    "\"rm -rf .git\"\n",
    "\n",
    "\"rm -rf fazle.txt\"      It will delete this file\n",
    "\n",
    "\"git clone https://github.com/mickyfazler/Link.git fazle\"       It will clone this and name folder as \"fazle\"\n"
   ]
  },
  {
   "source": [
    "# 6"
   ],
   "cell_type": "markdown",
   "metadata": {}
  },
  {
   "cell_type": "code",
   "execution_count": null,
   "metadata": {},
   "outputs": [],
   "source": [
    "A folder which have .git or which we tracking using git is called git repository\n",
    "\n",
    "When you first initializing a repository using \"git init\" and after that if we run \"git add --a\" it did not go our file into staged ,it send our file to untracked to unmodified.....So the point is \"git add --a\" is multi-purpose command....After initializing directory if we run \"git add --a\" it pull our file into staged area but first time if we did it give our file to untrackced to modified that means git will now track our file\n",
    "\n",
    "If if staged a file and then if  modify and commit it will commit the before version not the updated modified version ....Mind it..If you wanna commit the updated modified version then you must to staged the modifed version....Mind it...If you give \"git status\" it will saw same file on staged version and also modified version\n",
    "\n",
    "Saw 3.png"
   ]
  },
  {
   "source": [
    "# 7"
   ],
   "cell_type": "markdown",
   "metadata": {}
  },
  {
   "cell_type": "code",
   "execution_count": null,
   "metadata": {},
   "outputs": [],
   "source": [
    "Create a file errorLog.txt\n",
    "\n",
    "Where we log our some error .....By default git will track this file changed.....But we we don't want git track this folder then \n",
    "\n",
    "Create \".gitignore\" normally or by using linux command \"touch .gitignore\" and type those file ir folder name  you want don't track like \"errorLog.txt\" and \"fazle\" or \"fazle/\"  Anyone you can give    here fazle is directory or folder .Any \"fazle\" name folder will be ignore, it might be subfolder name\n",
    "\n",
    "Remember git did not track any blank folder or file(OWN EXPLORE)\n",
    "\n",
    "git status      You will not saw those files you put on .gitignore though you might be modified....But remember it will track .gitigonore file but not track those file or folder name inside this file\n",
    "\n",
    "If you wanna ignore any extension file type don't track then type in gitignore \"*.html\" it will igonore or don't track any html file\n",
    "\n",
    "if you put in \"/taylor/\"     It will igonore only outer \"taylor\" name folder ..not all folder(only outer folder)\n",
    "\n",
    "You also can put specific Same folder like this \"static/Taylor\"  \n"
   ]
  },
  {
   "source": [
    "# 8"
   ],
   "cell_type": "markdown",
   "metadata": {}
  },
  {
   "cell_type": "code",
   "execution_count": null,
   "metadata": {},
   "outputs": [],
   "source": [
    "\"git add .\"     it is like \"git add --a\"  it will add all the file to staging area\n",
    "\n",
    "If you change first.txt and \"git add .\"(staging) and then again modify it and if you wanna see the diffirence then type \"git diff\",,,Then you will saw the difference.....If you already staged and there no different between staged and working then type \"git diff\" it will not show anything\n",
    "\n",
    "\"git diff --staged\"     If will compare before commit and now staged version\n",
    "\n"
   ]
  },
  {
   "source": [
    "# 9"
   ],
   "cell_type": "markdown",
   "metadata": {}
  },
  {
   "cell_type": "code",
   "execution_count": null,
   "metadata": {},
   "outputs": [],
   "source": [
    "In commit message tell what you changed not tell \"changed on index.html\" because commit means you changed.....Please tell what you changed on index.html \n",
    "\n",
    "Change something on first.txt\n",
    "\n",
    "git commit -a -m \"Direct commiting bro\"     It will direct commit your all files from working area to staging area.....But remember you add a new file(That means you did not tracked or git add . did not give) it will not work for that....You must need to put new file from untracked files to tracked or modified file  \n",
    "\n",
    "git log ...By pressing down arrow key you can go down and \"q\" to quit\n",
    "\n",
    "\n"
   ]
  },
  {
   "source": [
    "# 10"
   ],
   "cell_type": "markdown",
   "metadata": {}
  },
  {
   "cell_type": "code",
   "execution_count": null,
   "metadata": {},
   "outputs": [],
   "source": [
    "REmaning first.txt to third.txt and \"git status\" it tells you deleted first.txt and new added third.txt(untracked)\n",
    "\n",
    "Now \"git add .\" and \"git status\" .....Now git says you renamed first >>third        \n",
    "\n",
    "WE can do the same thing using command and easy\n",
    "\"git rm first.txt\" deleting first.txt and \"git status\" will automatically told that first.txt is deleted \n",
    "\n",
    "Now \"git mv 2nd.txt 2nd_renamed.tx\" renamed 2nd.txt -> 2nd_renamed.txt and \"git status\" it will automaticaly told 2nd.txt -> 2nd_renamed.txt ... Where if we do manually it first told deleted then if we tracked then it told renamed\n",
    "\n",
    "\n",
    "\n",
    "Now in \".gitingore\" puting 2nd_renamed.txt and staging and commiting .gitignore.....After change 2nd_renamed.txt and git status .....But it show 2nd_renamed.txt changed......Why through we put it on .gitignore......Because we tracked this file before......You might be tell in 7 tutorial when I first did it why it's worked .Because when it was just created file (they are  untracked it)\n",
    "\n",
    "So now if don't want to track \"2nd_renamed.txt\" then we need to remove it from track \"git rm --cached 2nd_renamed.txt\"  and \"git status\" it told that 2nd_renamed.txt is deleted..But it's actually not.....Now if I change 2nd_renamed.txt again and git status then it did not tell\n",
    "\n",
    "\n",
    "Now If I remove \"2nd_renamed.txt\" from \".gitingore\" and \"git status\" ...It told that we are not tracking \"2nd_renamed.txt\""
   ]
  },
  {
   "source": [
    "# 11"
   ],
   "cell_type": "markdown",
   "metadata": {}
  },
  {
   "cell_type": "code",
   "execution_count": null,
   "metadata": {},
   "outputs": [],
   "source": [
    "Remote means internet \n",
    "\n",
    "\"git log -p\"        You wil saw all the commit and what difference is made\n",
    "\n",
    "\"git log -p -3\"     Last 3 commit\n",
    "\n",
    "\"git log --stat\"        You will saw sort summary  about what change we did \n",
    "\n",
    "\"git log --pretty=oneline\"      You will saw all commit in one line\n",
    "\n",
    "\"git log --pretty=short\"      You will saw all commit in shortly\n",
    "\n",
    "\"git log --pretty=full\"      You will saw all commit with much more information..Remember \"Author\" means who first created this file and \"commit\" means who commited this \n",
    "\n",
    "\" git log --since=2.days\"       You will saw last 2 days work\n",
    "\n",
    "\" git log --since=2.weeks/months/years\"       You will saw last 2 weeks/months/years work\n",
    "\n",
    "\"git log --pretty=format:\"%h -- %an\"\n",
    " We told show like this -->      \"%h\" means abbreviated commit hash then space then give \"--\" then space then  \"%an\" means author name....Show like this    \n",
    "\n",
    "\"git log --pretty=format:\"%h -- %ae\"        \"ae\" means author email \n",
    "git scm useful options for git log format\n",
    "\n",
    "Now change 2nd.txt and if you wanna merge this commit with before commit then \n",
    "\"git add .\"         It will stage all the changed file to merge with before commit\n",
    "\n",
    "\"git commit --anend\"        You can change commit message and also commit\n",
    "\n"
   ]
  },
  {
   "source": [
    "# 12"
   ],
   "cell_type": "markdown",
   "metadata": {}
  },
  {
   "cell_type": "code",
   "execution_count": null,
   "metadata": {},
   "outputs": [],
   "source": [
    "\"git restore --staged taki.txt\"     Unstaging file (Staging area--> working area)\n",
    "\n",
    "First change taki.txt but you thought last commit taki.txt is better then \n",
    "\"git checkout -- taki.txt\"      it will restore our last taki.txt cotext \n",
    "\n",
    "\"git checkout -f\"           REstoring all file content from previous commit\n",
    "\n"
   ]
  },
  {
   "source": [
    "# 13"
   ],
   "cell_type": "markdown",
   "metadata": {}
  },
  {
   "cell_type": "code",
   "execution_count": null,
   "metadata": {},
   "outputs": [],
   "source": [
    "Pull means geting code,,,When we pull we get all the code with history\n",
    "\n",
    "push means sending code...When just push those code which needed\n",
    "\n",
    "git remote          It did not showing anything\n",
    "\n",
    "We need to create remote--->\n",
    "First create a repository on github ...Now copy the link\n",
    "\"git remote add origin https://github.com/mickyfazler/git_learning.git\"     This url name is 'origin'..Instead of origin you also can give anyname\n",
    "\n",
    "\"git remote\"            You have one remote called \"origin\"\n",
    "\n",
    "\"git remote -v\"         It shows two url\n",
    "\n",
    "\"git push -u origin master\"         Copied from github.com...If you try push our code like this .....It shows permission denied....You also can give \"git push origin master\"\n",
    "\n",
    "We need to put ssh key on github....That's why we need to crete a ssh key--->\n",
    "\n",
    "\"ssh-keygen -t rsa -b 4096 -C \"your_email@example.com\"\"\n",
    "\n",
    "\"eval `ssh-agent -s`\"\n",
    "\n",
    "\"ssh-add ~/.ssh/id_rsa\"\n",
    "\n",
    "\" clip ~/.ssh/id_rsa.pub\"           Copy your ssh key...Put his ssh key on your github\n",
    "\n",
    "\"git push -u origin master\"         Now it pushes our code to git\n",
    "\n",
    "\"git status\"            You code is match by origin/master\n",
    "\n",
    "Now create this.txt and put something\n",
    "\n",
    "\"git status\"            this.txt is changed\n",
    "\n",
    "\"git add .\"\n",
    "\n",
    "\"git commit -m \"Adding on github\"\"\n",
    "\n",
    "\"git push -u origin master\"         Now it pushes our code to gi"
   ]
  },
  {
   "source": [
    "# 14"
   ],
   "cell_type": "markdown",
   "metadata": {}
  },
  {
   "cell_type": "code",
   "execution_count": null,
   "metadata": {},
   "outputs": [],
   "source": [
    "Alias mean instead of big command type small command which do the same thing\n",
    "\n",
    "\" git config --global alias.st status\"      That means now instead of git status you also can type git st\n",
    "\n",
    "git config --global alias.ci commit     That means now instead of git commit you also can type git ci\n",
    "\n",
    "You also can change this alias \n",
    "\n",
    "\"git config --global alias.unstage 'restore --staged --'\"       unstage--> restore --staged.......If you type git unstage that means git restore --staged --........If you wanna give any give big expression alias then give '' .I think you noticed it on the code......What we put after unstage it will come on \"--\" ...Like\n",
    "git unstage this.txt--->git resore staged this.txt...Instead of \"--\" it will comee\n",
    "\n",
    "git config --global alias.last 'log -p -1'          It will show last commit\n",
    "  "
   ]
  },
  {
   "source": [
    "# 15"
   ],
   "cell_type": "markdown",
   "metadata": {}
  },
  {
   "cell_type": "code",
   "execution_count": null,
   "metadata": {},
   "outputs": [],
   "source": [
    "To know aobut braching watch his fast 0-12:21\n",
    "\n",
    "\"git checkout -b developF\"         We create a new branch called \"developF\" and This is our current branch...Now you will saw master--->developF \n",
    "\n",
    "Now change our this repository as you want.........Now \"git add .\" and \"git commit -m \"New Branch\"\n",
    "\n",
    "Now just think you wanna work on \"master\" branch because your boss tell then \"git checkout master\" now you will saw that your deleted and modifed file get back is like before master.....Because I am now on master branch.....Just think index.html you put on .gitignore(on master branch).....But if you change index.html (on developF) and get back again on master branh put won't get index.html before content because it's on .gitignore.......Mind it((Which file not in .gitignore you will those file before state))\n"
   ]
  },
  {
   "source": [
    "# 16"
   ],
   "cell_type": "markdown",
   "metadata": {}
  },
  {
   "cell_type": "code",
   "execution_count": null,
   "metadata": {},
   "outputs": [],
   "source": [
    "Before changing the branch please commit...It should not be like you modified some file and some files are untracked but you changed your branch(REcommended)\n",
    "\n",
    "Gir repo 3\n",
    "\n",
    "First create index.html and make change.....Then create a new branch called \"developF\" and now I wanna merge both of them it means \"developF\" changes is final and if anywhere it find any conficts(When we both branch on same location elemeQ Atn and change and commit)then it will open on our default browser\n",
    "\"git merge developF\"        Merging both branch \n",
    "\n"
   ]
  },
  {
   "source": [
    "# 17"
   ],
   "cell_type": "markdown",
   "metadata": {}
  },
  {
   "cell_type": "code",
   "execution_count": null,
   "metadata": {},
   "outputs": [],
   "source": [
    "Merge conflicts means you merge any branch but git can't merge it\n",
    "\n",
    "Git will give you a erro when merge conflicts occur....like this....\"conflict resolution markers(<<<)\"\n",
    "\n",
    "\"git add index.html\"        REmember git add not only use for transfer our file to staging area......It also use for mark the merge conflicts\n",
    "\n",
    "\n",
    "To saw every branch last commit hash and commit message     \"git branch -v\"\n",
    "\n",
    "\"git branch --merged\"           It will show all branch which you already merged\n",
    "\"git branch --no-merged\"        It will show all branch which you already not merged\n",
    "\n",
    "They are really importent because those branch you already merged you can delete those branch\n",
    "\n",
    "\"git branch -d branchNmame\"     It will delete this branch....If you did not merged this branch then it will give you warning.....Because you may wanna delete this this.......If you consicously delete this branch this type \"-D\" instead of \"-d\"\n",
    "\n",
    "After merge Dont't forget to commit\n",
    "\n",
    "If any merge conflicts occur it will show error and it also open your default editor to solve the conflict......Mind it\n",
    "\n",
    "It is not good to make to many branch"
   ]
  },
  {
   "source": [
    "# 18"
   ],
   "cell_type": "markdown",
   "metadata": {}
  },
  {
   "cell_type": "code",
   "execution_count": null,
   "metadata": {},
   "outputs": [],
   "source": [
    "Basically we will make 2 types branches\n",
    "    1.Long running branches\n",
    "    2.Topic branches...It is short time.....We choose one topics and work on this branch before solving our problem and after solving we delete this branch"
   ]
  },
  {
   "source": [
    "# 19"
   ],
   "cell_type": "markdown",
   "metadata": {}
  },
  {
   "cell_type": "code",
   "execution_count": null,
   "metadata": {},
   "outputs": [],
   "source": [
    "REmember if you push any code on github then it did not automatically create brunch through your computer have lot's of branch right now....\n",
    "\n",
    "Just think your another branch name is \"bugfix\".......If you wanna push this branch on github...First you must need to go on that brunch\n",
    "\"git checkout bugfix\"\n",
    "then just push this branch...\"git push origin bugfix\"...That's it\n",
    "\n",
    "\"git push origin bugfix:mybugfix\"       That means your branch name will be \"mybugfix\" instead of bugfix (on github or remote or local )....You local branch name still \"bugfix\"\n",
    "\n",
    "Before pushing any code try that your all the thing is commited and nothing changed(That means working tree clean)\n",
    "\n",
    "\"git push -d origin bugfix\"         It will remotely delete your \"bugfix\" branch\n"
   ]
  },
  {
   "source": [
    "# Completed playlist 2"
   ],
   "cell_type": "markdown",
   "metadata": {}
  },
  {
   "source": [
    "# playlist 1 others"
   ],
   "cell_type": "markdown",
   "metadata": {}
  },
  {
   "source": [
    "# 5"
   ],
   "cell_type": "markdown",
   "metadata": {}
  },
  {
   "cell_type": "code",
   "execution_count": null,
   "metadata": {},
   "outputs": [],
   "source": [
    "Try not to give space on repository name\n",
    "\n",
    "If you did not set any SSH key then you can't push your code on github\n",
    "\n",
    "If you edit your code on github ,it also add on .git file ..Mind it\n",
    "\n"
   ]
  },
  {
   "source": [
    "# 6"
   ],
   "cell_type": "markdown",
   "metadata": {}
  },
  {
   "cell_type": "code",
   "execution_count": null,
   "metadata": {},
   "outputs": [],
   "source": [
    "\"git dif utils.txt\"         If you modify your file it will show where you did(Normal)\n",
    "\n",
    "\"git reset utils.txt\"       It will unstage our file\n",
    "\n",
    "if your file is unstage and You want this file before commit version then\n",
    "\"git checkout utils.txt\"\n",
    "\n",
    "\"git checkout .\"        All file now in before commit version\n"
   ]
  },
  {
   "source": [
    "# 7"
   ],
   "cell_type": "markdown",
   "metadata": {}
  },
  {
   "cell_type": "code",
   "execution_count": null,
   "metadata": {},
   "outputs": [],
   "source": [
    "\"git add -A\"                stages ALL\n",
    "\"git add .\"                 stages new and modifed,without deleted(That means if you delete any file they will be skipped)\n",
    "\"git add -u\"                stages modified and deleted,without new(If you add new file ,it will not stage)"
   ]
  },
  {
   "source": [
    "# 8"
   ],
   "cell_type": "markdown",
   "metadata": {}
  },
  {
   "cell_type": "code",
   "execution_count": null,
   "metadata": {},
   "outputs": [],
   "source": [
    "\"ls -la\"      It list all of your file and folder name of this current folder\n",
    "\n",
    "\"git clone www.urlllll .\"   If you give .(dot) in the last it did not create folder it just paste the content\n",
    "\n"
   ]
  },
  {
   "source": [
    "# 9"
   ],
   "cell_type": "markdown",
   "metadata": {}
  },
  {
   "cell_type": "code",
   "execution_count": null,
   "metadata": {},
   "outputs": [],
   "source": [
    "notepad fazle.txt             It will open this file on notepad\n",
    "\n"
   ]
  },
  {
   "source": [
    "# 10"
   ],
   "cell_type": "markdown",
   "metadata": {}
  },
  {
   "cell_type": "code",
   "execution_count": null,
   "metadata": {},
   "outputs": [],
   "source": [
    "You already know"
   ]
  },
  {
   "source": [
    "# 11"
   ],
   "cell_type": "markdown",
   "metadata": {}
  },
  {
   "cell_type": "code",
   "execution_count": null,
   "metadata": {},
   "outputs": [],
   "source": [
    "\"git push origin --delete 2nd_branch\"           You can remotely delete any branch like this"
   ]
  },
  {
   "source": [
    "# Completed playlist 1"
   ],
   "cell_type": "markdown",
   "metadata": {}
  },
  {
   "source": [
    "# Geeky shows vscode Github"
   ],
   "cell_type": "markdown",
   "metadata": {}
  },
  {
   "cell_type": "code",
   "execution_count": null,
   "metadata": {},
   "outputs": [],
   "source": [
    "If you already added your github account on vscode then remove it ...like ....search on windows \"Credemtial Manager\" >>\"Windows Credentials\" and remove github account\n",
    "\n",
    "To push your code just click upload icon\n",
    "\n",
    "You change your code and give commit message and save and click push icon\n",
    "\n",
    "When new window on github then it will show \"clone\" and if opened any folder then \"push\" shows on vscode.....\n",
    "\n",
    "if you push other code on your github you can't because .git folder contains all the information about owner....If you want to put then on your github anyway then just delete .git folder\n",
    "\n",
    "If you wanna contribute any source code on github then ....First fork his project on your github... Clone this forked version on your computer and change your code ,commit and push your github .......Now on github click pull request....\n",
    "\n",
    "To Create a new branch view>>\"command palette\">>\">create branch\"\n",
    "\n",
    "After Creating new branch You can change your branch by down icon clicking\n",
    "\n",
    "vscode Changing branch view>>\"command palette\">>\">checkout to\"\n",
    "\n",
    "if you change somethig on github but you will not reflect this code on your vscode until you pull\n",
    "\n",
    "To delete any branch on vscode ,,,view>>\"command palette\">>\">delete\"\n",
    "\n"
   ]
  }
 ]
}